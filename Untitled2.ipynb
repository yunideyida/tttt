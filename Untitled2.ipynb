{
 "cells": [
  {
   "cell_type": "code",
   "execution_count": 1,
   "metadata": {},
   "outputs": [
    {
     "name": "stdout",
     "output_type": "stream",
     "text": [
      "PI: 3.14\n"
     ]
    }
   ],
   "source": [
    "PI = 3.14\n",
    "def main():\n",
    "    print(\"PI:\", PI)\n",
    "main()\n",
    "\n"
   ]
  },
  {
   "cell_type": "code",
   "execution_count": 12,
   "metadata": {},
   "outputs": [],
   "source": [
    "class A(object):\n",
    "\n",
    "    # 属性默认为类属性（可以给直接被类本身调用）\n",
    "    num = \"类属性\"\n",
    "\n",
    "    # 实例化方法（必须实例化类之后才能被调用）\n",
    "    def func1(self): # self : 表示实例化类后的地址id\n",
    "        print(\"func1\")\n",
    "        print(self)\n",
    "\n",
    "    # 类方法（不需要实例化类就可以被类本身调用）\n",
    "    @classmethod\n",
    "    def func2(cls):  # cls : 表示没用被实例化的类本身\n",
    "        print(\"func2\")\n",
    "        print(cls)\n",
    "        print(cls.num)\n",
    "        cls().func1()\n",
    "\n",
    "    # 不传递传递默认self参数的方法（该方法也是可以直接被类调用的，但是这样做不标准）\n",
    "    def func3():\n",
    "        print(\"func3\")\n",
    "        print(A.num) # 属性是可以直接用类本身调用的"
   ]
  },
  {
   "cell_type": "code",
   "execution_count": 18,
   "metadata": {},
   "outputs": [
    {
     "name": "stdout",
     "output_type": "stream",
     "text": [
      "func2\n",
      "<class '__main__.A'>\n",
      "类属性\n",
      "func1\n",
      "<__main__.A object at 0x0000023149D40D08>\n"
     ]
    }
   ],
   "source": [
    " di = A.func2()"
   ]
  },
  {
   "cell_type": "code",
   "execution_count": 20,
   "metadata": {},
   "outputs": [
    {
     "ename": "AttributeError",
     "evalue": "'NoneType' object has no attribute 'func3'",
     "output_type": "error",
     "traceback": [
      "\u001b[1;31m---------------------------------------------------------------------------\u001b[0m",
      "\u001b[1;31mAttributeError\u001b[0m                            Traceback (most recent call last)",
      "\u001b[1;32m<ipython-input-20-aae329eb6df1>\u001b[0m in \u001b[0;36m<module>\u001b[1;34m\u001b[0m\n\u001b[1;32m----> 1\u001b[1;33m \u001b[0mdi\u001b[0m\u001b[1;33m.\u001b[0m\u001b[0mfunc3\u001b[0m\u001b[1;33m(\u001b[0m\u001b[1;33m)\u001b[0m\u001b[1;33m\u001b[0m\u001b[1;33m\u001b[0m\u001b[0m\n\u001b[0m",
      "\u001b[1;31mAttributeError\u001b[0m: 'NoneType' object has no attribute 'func3'"
     ]
    }
   ],
   "source": [
    "di.func3()"
   ]
  },
  {
   "cell_type": "code",
   "execution_count": 11,
   "metadata": {},
   "outputs": [
    {
     "name": "stdout",
     "output_type": "stream",
     "text": [
      "Ahahahah\n"
     ]
    }
   ],
   "source": [
    "sb.eat()"
   ]
  },
  {
   "cell_type": "code",
   "execution_count": null,
   "metadata": {},
   "outputs": [],
   "source": []
  }
 ],
 "metadata": {
  "kernelspec": {
   "display_name": "Python 3",
   "language": "python",
   "name": "python3"
  },
  "language_info": {
   "codemirror_mode": {
    "name": "ipython",
    "version": 3
   },
   "file_extension": ".py",
   "mimetype": "text/x-python",
   "name": "python",
   "nbconvert_exporter": "python",
   "pygments_lexer": "ipython3",
   "version": "3.7.4"
  }
 },
 "nbformat": 4,
 "nbformat_minor": 2
}
